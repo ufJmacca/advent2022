{
 "cells": [
  {
   "cell_type": "code",
   "execution_count": 1,
   "metadata": {},
   "outputs": [],
   "source": [
    "import requests\n",
    "import tomli\n",
    "\n",
    "with open(\"secrets.toml\", mode=\"rb\") as fp:\n",
    "    config = tomli.load(fp)\n",
    "\n",
    "r = requests.get('https://adventofcode.com/2022/day/3/input', headers={'cookie': config['day-2']['cookie']})"
   ]
  },
  {
   "cell_type": "code",
   "execution_count": 19,
   "metadata": {},
   "outputs": [
    {
     "name": "stdout",
     "output_type": "stream",
     "text": [
      "7581\n"
     ]
    }
   ],
   "source": [
    "rucksacks = []\n",
    "\n",
    "for line in r.text.splitlines():\n",
    "    rucksacks.append([line[:len(line)//2], line[len(line)//2:]])\n",
    "\n",
    "def common_char_value(char):\n",
    "    value = ord(char)\n",
    "    if value < 97:\n",
    "        return value - 38\n",
    "    else:\n",
    "        return value - 96\n",
    "\n",
    "rucksack_common_item_values = []\n",
    "\n",
    "for rucksack in rucksacks:\n",
    "    rucksack_common_item_values.append(common_char_value(''.join(set(rucksack[0]).intersection(set(rucksack[1])))))\n",
    "\n",
    "print(sum(rucksack_common_item_values))"
   ]
  },
  {
   "cell_type": "code",
   "execution_count": 29,
   "metadata": {},
   "outputs": [
    {
     "name": "stdout",
     "output_type": "stream",
     "text": [
      "2525\n"
     ]
    }
   ],
   "source": [
    "group_rucksacks = []\n",
    "\n",
    "for line in r.text.splitlines():\n",
    "    group_rucksacks.append(line)\n",
    "\n",
    "group_rucksacks_common_item_values = []\n",
    "\n",
    "for group in [group_rucksacks[i:i+3] for i in range(0, len(group_rucksacks), 3)]:\n",
    "    group_rucksacks_common_item_values.append(common_char_value(''.join(set(group[0]).intersection(set(group[1])).intersection(set(group[2])))))\n",
    "\n",
    "print(sum(group_rucksacks_common_item_values))"
   ]
  }
 ],
 "metadata": {
  "kernelspec": {
   "display_name": "Python 3.10.8 ('.venv': venv)",
   "language": "python",
   "name": "python3"
  },
  "language_info": {
   "codemirror_mode": {
    "name": "ipython",
    "version": 3
   },
   "file_extension": ".py",
   "mimetype": "text/x-python",
   "name": "python",
   "nbconvert_exporter": "python",
   "pygments_lexer": "ipython3",
   "version": "3.10.8"
  },
  "orig_nbformat": 4,
  "vscode": {
   "interpreter": {
    "hash": "b4862616734102e4ffd79c17c0e0ff6f9fc15c040eec97c5eafcb3269f877f9f"
   }
  }
 },
 "nbformat": 4,
 "nbformat_minor": 2
}
