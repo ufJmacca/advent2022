{
 "cells": [
  {
   "cell_type": "code",
   "execution_count": 1,
   "metadata": {},
   "outputs": [],
   "source": [
    "import requests\n",
    "import tomli\n",
    "import re \n",
    "\n",
    "with open(\"secrets.toml\", mode=\"rb\") as fp:\n",
    "    config = tomli.load(fp)\n",
    "\n",
    "r = requests.get('https://adventofcode.com/2022/day/5/input', headers={'cookie': config['day-2']['cookie']})"
   ]
  },
  {
   "cell_type": "code",
   "execution_count": 2,
   "metadata": {},
   "outputs": [],
   "source": [
    "cnt = 0\n",
    "stacks = []\n",
    "movements = []\n",
    "\n",
    "for line in r.text.splitlines():\n",
    "    if line == '':\n",
    "        cnt += 1\n",
    "    elif cnt == 0:\n",
    "        stacks.append(line)\n",
    "    else:\n",
    "        movements.append(re.findall('\\d+', line))"
   ]
  },
  {
   "cell_type": "code",
   "execution_count": 3,
   "metadata": {},
   "outputs": [],
   "source": [
    "matches = re.match('.*?(\\d)', stacks[-1:][0])\n",
    "\n",
    "end_position = 0\n",
    "index_locations = {}\n",
    "\n",
    "while matches:\n",
    "    end_position += matches.end(1)\n",
    "    index_locations[matches.group(1)] = end_position\n",
    "    matches = re.match('.*?(\\d)', stacks[-1:][0][end_position:])"
   ]
  },
  {
   "cell_type": "code",
   "execution_count": 4,
   "metadata": {},
   "outputs": [],
   "source": [
    "# Part 1 - moving one crate at a time\n",
    "stacks_dict = {}\n",
    "\n",
    "for index, _ in index_locations.items():\n",
    "    stacks_dict[index] = list()\n",
    "\n",
    "for stack in stacks[-2::-1]:\n",
    "    for key, value in index_locations.items():\n",
    "        if stack[value-1:value] != ' ':\n",
    "            stacks_dict[key].append(stack[value-1:value])"
   ]
  },
  {
   "cell_type": "code",
   "execution_count": 5,
   "metadata": {},
   "outputs": [
    {
     "name": "stdout",
     "output_type": "stream",
     "text": [
      "T\n",
      "D\n",
      "C\n",
      "H\n",
      "V\n",
      "H\n",
      "J\n",
      "T\n",
      "G\n"
     ]
    }
   ],
   "source": [
    "for crate, origin, destination in movements:\n",
    "    for i in range(0, int(crate)):\n",
    "        stacks_dict[destination] += stacks_dict[origin].pop()\n",
    "\n",
    "for _, stack in stacks_dict.items():\n",
    "    print(stack[-1])"
   ]
  },
  {
   "cell_type": "code",
   "execution_count": 6,
   "metadata": {},
   "outputs": [],
   "source": [
    "# Part 2 - Moving entire stack at once\n",
    "stacks_dict = {}\n",
    "\n",
    "for index, _ in index_locations.items():\n",
    "    stacks_dict[index] = list()\n",
    "\n",
    "for stack in stacks[-2::-1]:\n",
    "    for key, value in index_locations.items():\n",
    "        if stack[value-1:value] != ' ':\n",
    "            stacks_dict[key].append(stack[value-1:value])"
   ]
  },
  {
   "cell_type": "code",
   "execution_count": 7,
   "metadata": {},
   "outputs": [
    {
     "name": "stdout",
     "output_type": "stream",
     "text": [
      "N\n",
      "G\n",
      "C\n",
      "M\n",
      "P\n",
      "J\n",
      "L\n",
      "H\n",
      "V\n"
     ]
    }
   ],
   "source": [
    "for crates, origin, destination in movements:\n",
    "    stacks_dict[destination] += stacks_dict[origin][int(crates)*-1:]\n",
    "    del stacks_dict[origin][int(crates)*-1:]\n",
    "\n",
    "\n",
    "for _, stack in stacks_dict.items():\n",
    "    print(stack[-1])\n",
    "\n"
   ]
  }
 ],
 "metadata": {
  "kernelspec": {
   "display_name": "Python 3.10.8 ('.venv': venv)",
   "language": "python",
   "name": "python3"
  },
  "language_info": {
   "codemirror_mode": {
    "name": "ipython",
    "version": 3
   },
   "file_extension": ".py",
   "mimetype": "text/x-python",
   "name": "python",
   "nbconvert_exporter": "python",
   "pygments_lexer": "ipython3",
   "version": "3.10.8"
  },
  "orig_nbformat": 4,
  "vscode": {
   "interpreter": {
    "hash": "b4862616734102e4ffd79c17c0e0ff6f9fc15c040eec97c5eafcb3269f877f9f"
   }
  }
 },
 "nbformat": 4,
 "nbformat_minor": 2
}
