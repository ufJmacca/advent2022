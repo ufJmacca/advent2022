{
 "cells": [
  {
   "cell_type": "code",
   "execution_count": null,
   "metadata": {},
   "outputs": [],
   "source": [
    "import requests\n",
    "import tomli\n",
    "import re \n",
    "\n",
    "with open(\"secrets.toml\", mode=\"rb\") as fp:\n",
    "    config = tomli.load(fp)\n",
    "\n",
    "r = requests.get('https://adventofcode.com/2022/day/6/input', headers={'cookie': config['day-2']['cookie']})"
   ]
  },
  {
   "cell_type": "code",
   "execution_count": null,
   "metadata": {},
   "outputs": [],
   "source": [
    "signal = r.text\n",
    "print(signal)"
   ]
  },
  {
   "cell_type": "code",
   "execution_count": null,
   "metadata": {},
   "outputs": [],
   "source": [
    "from collections import Counter\n",
    "\n",
    "def unique_string(string):\n",
    "    characters = Counter(string)\n",
    "    if len(characters) == len(string):\n",
    "        return True\n",
    "    else:\n",
    "        return False\n",
    "\n",
    "# Part 1 - Start of Packet\n",
    "for i in range(len(signal)-4):\n",
    "\n",
    "    if unique_string(signal[0+i:4+i]):\n",
    "        print(i + 4)\n",
    "        break"
   ]
  },
  {
   "cell_type": "code",
   "execution_count": null,
   "metadata": {},
   "outputs": [],
   "source": [
    "# Part 2 - Start of message\n",
    "for i in range(len(signal)-14):\n",
    "\n",
    "    if unique_string(signal[0+i:14+i]):\n",
    "        print(i + 14)\n",
    "        break"
   ]
  },
  {
   "cell_type": "code",
   "execution_count": null,
   "metadata": {},
   "outputs": [],
   "source": []
  }
 ],
 "metadata": {
  "kernelspec": {
   "display_name": "Python 3.10.8 ('.venv': venv)",
   "language": "python",
   "name": "python3"
  },
  "language_info": {
   "codemirror_mode": {
    "name": "ipython",
    "version": 3
   },
   "file_extension": ".py",
   "mimetype": "text/x-python",
   "name": "python",
   "nbconvert_exporter": "python",
   "pygments_lexer": "ipython3",
   "version": "3.10.8"
  },
  "orig_nbformat": 4,
  "vscode": {
   "interpreter": {
    "hash": "b4862616734102e4ffd79c17c0e0ff6f9fc15c040eec97c5eafcb3269f877f9f"
   }
  }
 },
 "nbformat": 4,
 "nbformat_minor": 2
}
