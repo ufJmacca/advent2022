{
 "cells": [
  {
   "cell_type": "code",
   "execution_count": 7,
   "metadata": {},
   "outputs": [],
   "source": [
    "import requests\n",
    "import tomli\n",
    "import pandas as pd\n",
    "\n",
    "with open(\"secrets.toml\", mode=\"rb\") as fp:\n",
    "    config = tomli.load(fp)\n",
    "\n",
    "r = requests.get('https://adventofcode.com/2022/day/2/input', headers={'cookie': config['day-2']['cookie']})"
   ]
  },
  {
   "cell_type": "code",
   "execution_count": 10,
   "metadata": {},
   "outputs": [
    {
     "name": "stdout",
     "output_type": "stream",
     "text": [
      "     opponent response\n",
      "0           A        Y\n",
      "1           B        X\n",
      "2           C        X\n",
      "3           A        Z\n",
      "4           B        Y\n",
      "...       ...      ...\n",
      "2495        A        Z\n",
      "2496        B        Y\n",
      "2497        A        Y\n",
      "2498        C        X\n",
      "2499        A        X\n",
      "\n",
      "[2500 rows x 2 columns]\n"
     ]
    }
   ],
   "source": [
    "strategy_array = []\n",
    "\n",
    "for line in r.text.splitlines():\n",
    "    strategy_array.append(line.split(' ')) \n",
    "\n",
    "df = pd.DataFrame(strategy_array, columns=['opponent', 'response'])\n",
    "\n",
    "print(df)"
   ]
  },
  {
   "cell_type": "code",
   "execution_count": 18,
   "metadata": {},
   "outputs": [
    {
     "name": "stdout",
     "output_type": "stream",
     "text": [
      "13009\n"
     ]
    }
   ],
   "source": [
    "# Part 1\n",
    "\n",
    "def shape(value):\n",
    "    match value:\n",
    "        case \"A\":\n",
    "            return [\"Rock\", 0]\n",
    "        case \"B\":\n",
    "            return [\"Paper\", 0]\n",
    "        case \"C\":\n",
    "            return [\"Scissors\", 0]\n",
    "        case \"X\":\n",
    "            return [\"Rock\", 1]\n",
    "        case \"Y\":\n",
    "            return [\"Paper\", 2]\n",
    "        case \"Z\":\n",
    "            return [\"Scissors\", 3]\n",
    "\n",
    "def game_result(opponent, response):\n",
    "    opponent_shape, _ = shape(opponent)\n",
    "    response_shape, response_value = shape(response)\n",
    "\n",
    "    if opponent_shape == 'Rock':\n",
    "        if response_shape == 'Rock':\n",
    "            return 3 + response_value\n",
    "        elif response_shape == 'Paper':\n",
    "            return 6 + response_value\n",
    "        else:\n",
    "            return 0 + response_value\n",
    "    elif opponent_shape == 'Paper':\n",
    "        if response_shape == 'Rock':\n",
    "            return 0 + response_value\n",
    "        elif response_shape == 'Paper':\n",
    "            return 3 + response_value\n",
    "        else:\n",
    "            return 6 + response_value\n",
    "    else:\n",
    "        if response_shape == 'Rock':\n",
    "            return 6 + response_value\n",
    "        elif response_shape == 'Paper':\n",
    "            return 0 + response_value\n",
    "        else:\n",
    "            return 3 + response_value\n",
    "\n",
    "df['result'] = df.apply(lambda x: game_result(x['opponent'], x['response']), axis = 1)\n",
    "\n",
    "print(df['result'].sum())"
   ]
  },
  {
   "cell_type": "code",
   "execution_count": 25,
   "metadata": {},
   "outputs": [
    {
     "name": "stdout",
     "output_type": "stream",
     "text": [
      "  opponent response  result  result_part_2\n",
      "0        A        Y       8              4\n",
      "1        B        X       1              1\n",
      "2        C        X       7              2\n",
      "3        A        Z       3              8\n",
      "4        B        Y       5              5\n",
      "10398\n"
     ]
    }
   ],
   "source": [
    "# Part 2\n",
    "\n",
    "def shape(value):\n",
    "    match value:\n",
    "        case \"A\":\n",
    "            return [\"Rock\", 0]\n",
    "        case \"B\":\n",
    "            return [\"Paper\", 0]\n",
    "        case \"C\":\n",
    "            return [\"Scissors\", 0]\n",
    "        case \"X\":\n",
    "            return [\"Lose\", 1]\n",
    "        case \"Y\":\n",
    "            return [\"Draw\", 2]\n",
    "        case \"Z\":\n",
    "            return [\"Win\", 3]\n",
    "\n",
    "def game_result(opponent, response):\n",
    "    opponent_shape, _ = shape(opponent)\n",
    "    response_shape, _ = shape(response)\n",
    "\n",
    "    if response_shape == \"Lose\":\n",
    "        if opponent_shape == 'Rock':\n",
    "            return 0 + 3\n",
    "        elif opponent_shape == 'Paper':\n",
    "            return 0 + 1\n",
    "        elif opponent_shape == 'Scissors':\n",
    "            return 0 + 2\n",
    "    elif response_shape == \"Draw\":\n",
    "        if opponent_shape == 'Rock':\n",
    "            return 3 + 1\n",
    "        elif opponent_shape == 'Paper':\n",
    "            return 3 + 2\n",
    "        elif opponent_shape == 'Scissors':\n",
    "            return 3 + 3\n",
    "    elif response_shape == \"Win\":\n",
    "        if opponent_shape == 'Rock':\n",
    "            return 6 + 2\n",
    "        elif opponent_shape == 'Paper':\n",
    "            return 6 + 3\n",
    "        elif opponent_shape == 'Scissors':\n",
    "            return 6 + 1\n",
    "\n",
    "df['result_part_2'] = df.apply(lambda x: game_result(x['opponent'], x['response']), axis = 1)\n",
    "\n",
    "print(df['result_part_2'].sum())"
   ]
  },
  {
   "cell_type": "code",
   "execution_count": null,
   "metadata": {},
   "outputs": [],
   "source": []
  }
 ],
 "metadata": {
  "kernelspec": {
   "display_name": "Python 3.10.8 ('.venv': venv)",
   "language": "python",
   "name": "python3"
  },
  "language_info": {
   "codemirror_mode": {
    "name": "ipython",
    "version": 3
   },
   "file_extension": ".py",
   "mimetype": "text/x-python",
   "name": "python",
   "nbconvert_exporter": "python",
   "pygments_lexer": "ipython3",
   "version": "3.10.8"
  },
  "orig_nbformat": 4,
  "vscode": {
   "interpreter": {
    "hash": "b4862616734102e4ffd79c17c0e0ff6f9fc15c040eec97c5eafcb3269f877f9f"
   }
  }
 },
 "nbformat": 4,
 "nbformat_minor": 2
}
