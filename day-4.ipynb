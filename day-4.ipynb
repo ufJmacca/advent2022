{
 "cells": [
  {
   "cell_type": "code",
   "execution_count": 2,
   "metadata": {},
   "outputs": [],
   "source": [
    "import requests\n",
    "import tomli\n",
    "import re \n",
    "\n",
    "with open(\"secrets.toml\", mode=\"rb\") as fp:\n",
    "    config = tomli.load(fp)\n",
    "\n",
    "r = requests.get('https://adventofcode.com/2022/day/4/input', headers={'cookie': config['day-2']['cookie']})"
   ]
  },
  {
   "cell_type": "code",
   "execution_count": 3,
   "metadata": {},
   "outputs": [],
   "source": [
    "assignment_pairs = []\n",
    "\n",
    "for line in r.text.splitlines():\n",
    "    assignment_pairs.append([int(x) for x in re.split('[-,]+', line)])\n"
   ]
  },
  {
   "cell_type": "code",
   "execution_count": 5,
   "metadata": {},
   "outputs": [],
   "source": [
    "def get_value_index(items, func):\n",
    "    if func == 'min':\n",
    "        value = min(items)\n",
    "    else:\n",
    "        value = max(items)\n",
    "\n",
    "    return [i for i, val in enumerate(items) if val == value]\n"
   ]
  },
  {
   "cell_type": "code",
   "execution_count": null,
   "metadata": {},
   "outputs": [],
   "source": [
    "\n",
    "# PART 1\n",
    "\n",
    "outcomes = []\n",
    "\n",
    "for assignment in assignment_pairs:\n",
    "    min_index_location = get_value_index([assignment[0], assignment[2]], 'max')\n",
    "\n",
    "    if len(min_index_location) == 1:\n",
    "        if min_index_location[0] == 0:\n",
    "            if assignment[1] <= assignment[3]:\n",
    "                outcome = 'fully contained'\n",
    "            else:\n",
    "                outcome = ''\n",
    "        elif min_index_location[0] == 1:\n",
    "            if assignment[3] <= assignment[1]:\n",
    "                outcome = 'fully contained'\n",
    "            else:\n",
    "                outcome = ''\n",
    "    else:\n",
    "        outcome = 'fully contained'\n",
    "\n",
    "    outcomes.append(outcome)\n",
    "\n",
    "print(outcomes.count('fully contained'))"
   ]
  },
  {
   "cell_type": "code",
   "execution_count": 12,
   "metadata": {},
   "outputs": [
    {
     "name": "stdout",
     "output_type": "stream",
     "text": [
      "921\n"
     ]
    }
   ],
   "source": [
    "# PART 2\n",
    "\n",
    "outcomes = []\n",
    "\n",
    "for assignment in assignment_pairs:\n",
    "    if assignment[0] <= assignment[3] and assignment[1] >= assignment[2]:\n",
    "        outcome = 'partially contained'\n",
    "    else:\n",
    "        outcome = ''\n",
    "    outcomes.append(outcome)\n",
    "\n",
    "print(outcomes.count('partially contained'))"
   ]
  },
  {
   "cell_type": "code",
   "execution_count": null,
   "metadata": {},
   "outputs": [],
   "source": []
  }
 ],
 "metadata": {
  "kernelspec": {
   "display_name": "Python 3.10.8 ('.venv': venv)",
   "language": "python",
   "name": "python3"
  },
  "language_info": {
   "codemirror_mode": {
    "name": "ipython",
    "version": 3
   },
   "file_extension": ".py",
   "mimetype": "text/x-python",
   "name": "python",
   "nbconvert_exporter": "python",
   "pygments_lexer": "ipython3",
   "version": "3.10.8"
  },
  "orig_nbformat": 4,
  "vscode": {
   "interpreter": {
    "hash": "b4862616734102e4ffd79c17c0e0ff6f9fc15c040eec97c5eafcb3269f877f9f"
   }
  }
 },
 "nbformat": 4,
 "nbformat_minor": 2
}
